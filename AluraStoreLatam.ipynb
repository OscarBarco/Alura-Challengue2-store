{
  "cells": [
    {
      "cell_type": "markdown",
      "metadata": {
        "id": "RhEdWd9YUR6H"
      },
      "source": [
        "### Importación de datos\n",
        "\n"
      ]
    },
    {
      "cell_type": "code",
      "execution_count": 56,
      "metadata": {
        "colab": {
          "base_uri": "https://localhost:8080/",
          "height": 206
        },
        "id": "T3EvaeQ_INIL",
        "outputId": "e9c5efe1-82a3-43ab-e8d7-6d01e4fa3514"
      },
      "outputs": [],
      "source": [
        "import pandas as pd\n",
        "import matplotlib.pyplot as plt\n",
        "\n",
        "url = \"https://raw.githubusercontent.com/alura-es-cursos/challenge1-data-science-latam/refs/heads/main/base-de-datos-challenge1-latam/tienda_1%20.csv\"\n",
        "url2 = \"https://raw.githubusercontent.com/alura-es-cursos/challenge1-data-science-latam/refs/heads/main/base-de-datos-challenge1-latam/tienda_2.csv\"\n",
        "url3 = \"https://raw.githubusercontent.com/alura-es-cursos/challenge1-data-science-latam/refs/heads/main/base-de-datos-challenge1-latam/tienda_3.csv\"\n",
        "url4 = \"https://raw.githubusercontent.com/alura-es-cursos/challenge1-data-science-latam/refs/heads/main/base-de-datos-challenge1-latam/tienda_4.csv\"\n",
        "\n",
        "tienda = pd.read_csv(url)\n",
        "tienda2 = pd.read_csv(url2)\n",
        "tienda3 = pd.read_csv(url3)\n",
        "tienda4 = pd.read_csv(url4)"
      ]
    },
    {
      "cell_type": "code",
      "execution_count": null,
      "metadata": {},
      "outputs": [
        {
          "name": "stdout",
          "output_type": "stream",
          "text": [
            "['Artículos para el hogar' 'Deportes y diversión' 'Electrodomésticos'\n",
            " 'Electrónicos' 'Instrumentos musicales' 'Juguetes' 'Libros' 'Muebles']\n",
            "['Artículos para el hogar' 'Deportes y diversión' 'Electrodomésticos'\n",
            " 'Electrónicos' 'Instrumentos musicales' 'Juguetes' 'Libros' 'Muebles']\n",
            "['Artículos para el hogar' 'Deportes y diversión' 'Electrodomésticos'\n",
            " 'Electrónicos' 'Instrumentos musicales' 'Juguetes' 'Libros' 'Muebles']\n",
            "['Artículos para el hogar' 'Deportes y diversión' 'Electrodomésticos'\n",
            " 'Electrónicos' 'Instrumentos musicales' 'Juguetes' 'Libros' 'Muebles']\n"
          ]
        }
      ],
      "source": [
        "#Comparando una misma columna en todas las tiendas\n",
        "\n",
        "print(tienda['Categoría del Producto'].sort_values().unique())\n",
        "print(tienda2['Categoría del Producto'].sort_values().unique())\n",
        "print(tienda3['Categoría del Producto'].sort_values().unique())\n",
        "print(tienda4['Categoría del Producto'].sort_values().unique())\n",
        "\n",
        "#Conclusion: todas tienen la misma categoria"
      ]
    },
    {
      "cell_type": "code",
      "execution_count": null,
      "metadata": {},
      "outputs": [
        {
          "name": "stdout",
          "output_type": "stream",
          "text": [
            "<class 'pandas.core.frame.DataFrame'>\n",
            "RangeIndex: 2359 entries, 0 to 2358\n",
            "Data columns (total 12 columns):\n",
            " #   Column                  Non-Null Count  Dtype  \n",
            "---  ------                  --------------  -----  \n",
            " 0   Producto                2359 non-null   object \n",
            " 1   Categoría del Producto  2359 non-null   object \n",
            " 2   Precio                  2359 non-null   float64\n",
            " 3   Costo de envío          2359 non-null   float64\n",
            " 4   Fecha de Compra         2359 non-null   object \n",
            " 5   Vendedor                2359 non-null   object \n",
            " 6   Lugar de Compra         2359 non-null   object \n",
            " 7   Calificación            2359 non-null   int64  \n",
            " 8   Método de pago          2359 non-null   object \n",
            " 9   Cantidad de cuotas      2359 non-null   int64  \n",
            " 10  lat                     2359 non-null   float64\n",
            " 11  lon                     2359 non-null   float64\n",
            "dtypes: float64(4), int64(2), object(6)\n",
            "memory usage: 221.3+ KB\n",
            "None\n",
            "<class 'pandas.core.frame.DataFrame'>\n",
            "RangeIndex: 2359 entries, 0 to 2358\n",
            "Data columns (total 12 columns):\n",
            " #   Column                  Non-Null Count  Dtype  \n",
            "---  ------                  --------------  -----  \n",
            " 0   Producto                2359 non-null   object \n",
            " 1   Categoría del Producto  2359 non-null   object \n",
            " 2   Precio                  2359 non-null   float64\n",
            " 3   Costo de envío          2359 non-null   float64\n",
            " 4   Fecha de Compra         2359 non-null   object \n",
            " 5   Vendedor                2359 non-null   object \n",
            " 6   Lugar de Compra         2359 non-null   object \n",
            " 7   Calificación            2359 non-null   int64  \n",
            " 8   Método de pago          2359 non-null   object \n",
            " 9   Cantidad de cuotas      2359 non-null   int64  \n",
            " 10  lat                     2359 non-null   float64\n",
            " 11  lon                     2359 non-null   float64\n",
            "dtypes: float64(4), int64(2), object(6)\n",
            "memory usage: 221.3+ KB\n",
            "None\n",
            "<class 'pandas.core.frame.DataFrame'>\n",
            "RangeIndex: 2359 entries, 0 to 2358\n",
            "Data columns (total 12 columns):\n",
            " #   Column                  Non-Null Count  Dtype  \n",
            "---  ------                  --------------  -----  \n",
            " 0   Producto                2359 non-null   object \n",
            " 1   Categoría del Producto  2359 non-null   object \n",
            " 2   Precio                  2359 non-null   float64\n",
            " 3   Costo de envío          2359 non-null   float64\n",
            " 4   Fecha de Compra         2359 non-null   object \n",
            " 5   Vendedor                2359 non-null   object \n",
            " 6   Lugar de Compra         2359 non-null   object \n",
            " 7   Calificación            2359 non-null   int64  \n",
            " 8   Método de pago          2359 non-null   object \n",
            " 9   Cantidad de cuotas      2359 non-null   int64  \n",
            " 10  lat                     2359 non-null   float64\n",
            " 11  lon                     2359 non-null   float64\n",
            "dtypes: float64(4), int64(2), object(6)\n",
            "memory usage: 221.3+ KB\n",
            "None\n",
            "<class 'pandas.core.frame.DataFrame'>\n",
            "RangeIndex: 2358 entries, 0 to 2357\n",
            "Data columns (total 12 columns):\n",
            " #   Column                  Non-Null Count  Dtype  \n",
            "---  ------                  --------------  -----  \n",
            " 0   Producto                2358 non-null   object \n",
            " 1   Categoría del Producto  2358 non-null   object \n",
            " 2   Precio                  2358 non-null   float64\n",
            " 3   Costo de envío          2358 non-null   float64\n",
            " 4   Fecha de Compra         2358 non-null   object \n",
            " 5   Vendedor                2358 non-null   object \n",
            " 6   Lugar de Compra         2358 non-null   object \n",
            " 7   Calificación            2358 non-null   int64  \n",
            " 8   Método de pago          2358 non-null   object \n",
            " 9   Cantidad de cuotas      2358 non-null   int64  \n",
            " 10  lat                     2358 non-null   float64\n",
            " 11  lon                     2358 non-null   float64\n",
            "dtypes: float64(4), int64(2), object(6)\n",
            "memory usage: 221.2+ KB\n",
            "None\n"
          ]
        }
      ],
      "source": [
        "#Analizando las tiendas\n",
        "print(tienda.info())\n",
        "print(tienda2.info())\n",
        "print(tienda3.info())\n",
        "print(tienda4.info())\n",
        "\n",
        "#todos tiene el mismo tamanio y no tienen valores faltantes"
      ]
    },
    {
      "cell_type": "code",
      "execution_count": null,
      "metadata": {},
      "outputs": [
        {
          "data": {
            "text/plain": [
              "Producto                  0\n",
              "Categoría del Producto    0\n",
              "Precio                    0\n",
              "Costo de envío            0\n",
              "Fecha de Compra           0\n",
              "Vendedor                  0\n",
              "Lugar de Compra           0\n",
              "Calificación              0\n",
              "Método de pago            0\n",
              "Cantidad de cuotas        0\n",
              "lat                       0\n",
              "lon                       0\n",
              "dtype: int64"
            ]
          },
          "execution_count": 33,
          "metadata": {},
          "output_type": "execute_result"
        }
      ],
      "source": [
        "#Analizando los archivos\n",
        "tienda4.isnull().sum()  # se comprueba que no tenemos valores nulos"
      ]
    },
    {
      "cell_type": "markdown",
      "metadata": {
        "id": "X62IW3KFUIYm"
      },
      "source": [
        "#1. Análisis de facturación\n",
        "\n"
      ]
    },
    {
      "cell_type": "code",
      "execution_count": null,
      "metadata": {
        "id": "xykobSftV64I"
      },
      "outputs": [
        {
          "name": "stdout",
          "output_type": "stream",
          "text": [
            "Total de ventas tienda1 1,150,880,400\n",
            "Total de ventas tienda2 1,116,343,500\n",
            "Total de ventas tienda3 1,098,019,600\n",
            "Total de ventas tienda4 1,038,375,700\n"
          ]
        }
      ],
      "source": [
        "totalTienda1 = tienda['Precio'].sum()\n",
        "totalTienda2 = tienda2['Precio'].sum()\n",
        "totalTienda3 = tienda3['Precio'].sum()\n",
        "totalTienda4 = tienda4['Precio'].sum()\n",
        "\n",
        "print(f'Total de ventas tienda1 {totalTienda1:,.0f}')\n",
        "print(f'Total de ventas tienda2 {totalTienda2:,.0f}')\n",
        "print(f'Total de ventas tienda3 {totalTienda3:,.0f}')\n",
        "print(f'Total de ventas tienda4 {totalTienda4:,.0f}')\n",
        "\n",
        "#Conclusion\n",
        "#la tienda que mas vende es la tienda 1 y la que menos la 4"
      ]
    },
    {
      "cell_type": "code",
      "execution_count": 72,
      "metadata": {},
      "outputs": [
        {
          "name": "stdout",
          "output_type": "stream",
          "text": [
            "Porcentaje de venta de tienda2 3.094% menos\n",
            "Porcentaje de venta de tienda3 4.814% menos\n",
            "Porcentaje de venta de tienda4 10.835% menos\n",
            "La diferencia en facturacion entre la tienda1 y la tienda4 es de 112.5 millones\n"
          ]
        }
      ],
      "source": [
        "#Comparativa en porcentajes de venta de las tiendas sobre tienda 1\n",
        "print(f'Porcentaje de venta de tienda2 {round((totalTienda1/totalTienda2*100-100), 3)}% menos')\n",
        "print(f'Porcentaje de venta de tienda3 {round((totalTienda1/totalTienda3*100-100), 3)}% menos')\n",
        "print(f'Porcentaje de venta de tienda4 {round((totalTienda1/totalTienda4*100-100), 3)}% menos')\n",
        "print(f'La diferencia en facturacion entre la tienda1 y la tienda4 es de {round((totalTienda1-totalTienda4)/1000000, 1)} millones')"
      ]
    },
    {
      "cell_type": "code",
      "execution_count": null,
      "metadata": {
        "id": "KDyr8E71V3m-"
      },
      "outputs": [],
      "source": []
    },
    {
      "cell_type": "markdown",
      "metadata": {
        "id": "2V_vcAPzWZmR"
      },
      "source": [
        "# 2. Ventas por categoría"
      ]
    },
    {
      "cell_type": "code",
      "execution_count": null,
      "metadata": {},
      "outputs": [
        {
          "name": "stdout",
          "output_type": "stream",
          "text": [
            "['Artículos para el hogar' 'Deportes y diversión' 'Electrodomésticos'\n",
            " 'Electrónicos' 'Instrumentos musicales' 'Juguetes' 'Libros' 'Muebles']\n",
            "precio para Artículos para el hogar es 12,698,400\n",
            "precio para Deportes y diversión es 39,290,000\n",
            "precio para Electrodomésticos es 363,685,200\n",
            "precio para Electrónicos es 429,493,500\n",
            "precio para Instrumentos musicales es 91,299,000\n",
            "precio para Juguetes es 17,995,700\n",
            "precio para Libros es 8,784,900\n",
            "precio para Muebles es 187,633,700\n"
          ]
        }
      ],
      "source": [
        "#ventas de las tiendas por categorias para tienda1\n",
        "print(tienda['Categoría del Producto'].sort_values().unique())\n",
        "tienda[tienda['Categoría del Producto']=='Artículos para el hogar']\n",
        "\n",
        "#cual categoria vende mas?\n",
        "categorias = ['Artículos para el hogar', 'Deportes y diversión' ,'Electrodomésticos', 'Electrónicos', 'Instrumentos musicales', 'Juguetes', 'Libros','Muebles']\n",
        "\n",
        "for i in categorias:\n",
        "    a=tienda[tienda['Categoría del Producto']==i]['Precio'].sum()\n",
        "    print(f'precio para {i} es {a:,.0f}')"
      ]
    },
    {
      "cell_type": "code",
      "execution_count": null,
      "metadata": {},
      "outputs": [
        {
          "data": {
            "text/plain": [
              "([0, 1, 2, 3, 4, 5, 6, 7],\n",
              " [Text(0, 0, 'ArtículosHogar'),\n",
              "  Text(1, 0, 'Deportes'),\n",
              "  Text(2, 0, 'Electrodomésticos'),\n",
              "  Text(3, 0, 'Electrónicos'),\n",
              "  Text(4, 0, 'Instru. Musicales'),\n",
              "  Text(5, 0, 'Juguetes'),\n",
              "  Text(6, 0, 'Libros'),\n",
              "  Text(7, 0, 'Muebles')])"
            ]
          },
          "execution_count": 71,
          "metadata": {},
          "output_type": "execute_result"
        },
        {
          "data": {
            "image/png": "[encoded data removed]",
            "text/plain": [
              "<Figure size 640x480 with 1 Axes>"
            ]
          },
          "metadata": {},
          "output_type": "display_data"
        }
      ],
      "source": [
        "#Grafica de barras para tienda 1\n",
        "categorias\n",
        "x = ['ArtículosHogar', 'Deportes', 'Electrodomésticos', 'Electrónicos', 'Instru. Musicales' ,'Juguetes', 'Libros' ,'Muebles']\n",
        "valores = [tienda[tienda['Categoría del Producto']==i]['Precio'].sum() for i in categorias]\n",
        "\n",
        "plt.bar(x,valores)\n",
        "plt.xticks(fontsize=5)"
      ]
    },
    {
      "cell_type": "code",
      "execution_count": null,
      "metadata": {},
      "outputs": [],
      "source": [
        "#Analisis grafico de ventas por categoria de todas las tiendas\n",
        "valores = [tienda[tienda['Categoría del Producto']==i]['Precio'].sum() for i in categorias]\n",
        "valores2 = [tienda2[tienda2['Categoría del Producto']==i]['Precio'].sum() for i in categorias]\n",
        "valores3 = [tienda3[tienda3['Categoría del Producto']==i]['Precio'].sum() for i in categorias]\n",
        "valores4 = [tienda4[tienda4['Categoría del Producto']==i]['Precio'].sum() for i in categorias]"
      ]
    },
    {
      "cell_type": "code",
      "execution_count": null,
      "metadata": {},
      "outputs": [
        {
          "name": "stdout",
          "output_type": "stream",
          "text": [
            "A = Artículos para el hogar\n",
            "D = Deportes y diversión\n",
            "E = Electrodomésticos\n",
            "El = Electrónicos\n",
            "I = Instrumentos musicales\n",
            "J = Juguetes\n",
            "L = Libros\n",
            "M = Muebles\n"
          ]
        },
        {
          "data": {
            "text/plain": [
              "<BarContainer object of 8 artists>"
            ]
          },
          "execution_count": 97,
          "metadata": {},
          "output_type": "execute_result"
        },
        {
          "data": {
            "image/png": "[encoded data removed]",
            "text/plain": [
              "<Figure size 1500x1500 with 4 Axes>"
            ]
          },
          "metadata": {},
          "output_type": "display_data"
        }
      ],
      "source": [
        "x= ['A','D','E','El','I','J','L','M']\n",
        "for i in range(8):\n",
        "    print(f'{x[i]} = {categorias[i]}')\n",
        "fig, ax = plt.subplots(1,4, sharey=True, figsize=(15,15))\n",
        "ax[0].bar(x,valores)\n",
        "ax[1].bar(x,valores2)\n",
        "ax[2].bar(x,valores3)\n",
        "ax[3].bar(x,valores4)"
      ]
    },
    {
      "cell_type": "code",
      "execution_count": null,
      "metadata": {},
      "outputs": [
        {
          "name": "stdout",
          "output_type": "stream",
          "text": [
            "Total categoria tienda1 $980,812,400\n",
            "Total categoria tienda2 $935,825,200\n",
            "Total categoria tienda3 $941,085,800\n",
            "Total categoria tienda4 $885,265,200\n",
            "\n",
            "Porcentaje de venta de tienda2 4.807% menos\n",
            "Porcentaje de venta de tienda3 4.221% menos\n",
            "Porcentaje de venta de tienda4 10.793% menos\n",
            "La diferencia en facturacion entre la tienda1 y la tienda4 es de 95.5 millones\n"
          ]
        }
      ],
      "source": [
        "#Conclusiones:\n",
        "#las categorias que mas se venden en conjunto son 'electrodomesticos', 'electronicos' y muebles\n",
        "#1. la tienda que mas vende en esta categoria es tienda 1 y la que menos es tienda4\n",
        "#categorias que vamos a sumar  =[2,3,7] =>'electrodomesticos', 'electronicos' y muebles\n",
        "categoriaSuma = valores[2] + valores[3] + valores[7]\n",
        "categoriaSuma2 = valores2[2] + valores2[3] + valores2[7]\n",
        "categoriaSuma3 = valores3[2] + valores3[3] + valores3[7]\n",
        "categoriaSuma4 = valores4[2] + valores4[3] + valores4[7]\n",
        "\n",
        "print(f'Total categoria tienda1 ${categoriaSuma:,.0f}')\n",
        "print(f'Total categoria tienda2 ${categoriaSuma2:,.0f}')\n",
        "print(f'Total categoria tienda3 ${categoriaSuma3:,.0f}')\n",
        "print(f'Total categoria tienda4 ${categoriaSuma4:,.0f}')\n",
        "print('')\n",
        "#Comparativa en porcentajes de venta de las tiendas sobre tienda 1\n",
        "print(f'Porcentaje de venta de tienda2 {round((categoriaSuma/categoriaSuma2*100-100), 3)}% menos')\n",
        "print(f'Porcentaje de venta de tienda3 {round((categoriaSuma/categoriaSuma3*100-100), 3)}% menos')\n",
        "print(f'Porcentaje de venta de tienda4 {round((categoriaSuma/categoriaSuma4*100-100), 3)}% menos')\n",
        "print(f'La diferencia en facturacion entre la tienda1 y la tienda4 es de {round((categoriaSuma-categoriaSuma4)/1000000, 1)} millones')\n",
        "    \n",
        "\n",
        "    "
      ]
    },
    {
      "cell_type": "markdown",
      "metadata": {
        "id": "Rq6tU_xSY3jk"
      },
      "source": [
        "# 3. Calificación promedio de la tienda\n"
      ]
    },
    {
      "cell_type": "code",
      "execution_count": null,
      "metadata": {
        "id": "bh3jjjJwY5MU"
      },
      "outputs": [],
      "source": []
    },
    {
      "cell_type": "code",
      "execution_count": null,
      "metadata": {
        "id": "I0KkjPoTY88F"
      },
      "outputs": [],
      "source": []
    },
    {
      "cell_type": "markdown",
      "metadata": {
        "id": "DmNp1KPBZCm-"
      },
      "source": [
        "# 4. Productos más y menos vendidos"
      ]
    },
    {
      "cell_type": "code",
      "execution_count": null,
      "metadata": {
        "id": "qoyjqijQZHfF"
      },
      "outputs": [],
      "source": []
    },
    {
      "cell_type": "code",
      "execution_count": null,
      "metadata": {
        "id": "0Sw3sd4IZIGW"
      },
      "outputs": [],
      "source": []
    },
    {
      "cell_type": "markdown",
      "metadata": {
        "id": "Fl0cGi3bZKqU"
      },
      "source": [
        "# 5. Envío promedio por tienda"
      ]
    },
    {
      "cell_type": "code",
      "execution_count": null,
      "metadata": {
        "id": "S2JeaCykZNy9"
      },
      "outputs": [],
      "source": []
    },
    {
      "cell_type": "code",
      "execution_count": null,
      "metadata": {
        "id": "0tSdCie9ZQlt"
      },
      "outputs": [],
      "source": []
    }
  ],
  "metadata": {
    "colab": {
      "provenance": []
    },
    "kernelspec": {
      "display_name": "Python 3",
      "name": "python3"
    },
    "language_info": {
      "codemirror_mode": {
        "name": "ipython",
        "version": 3
      },
      "file_extension": ".py",
      "mimetype": "text/x-python",
      "name": "python",
      "nbconvert_exporter": "python",
      "pygments_lexer": "ipython3",
      "version": "3.11.7"
    }
  },
  "nbformat": 4,
  "nbformat_minor": 0
}
