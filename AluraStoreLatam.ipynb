{
  "cells": [
    {
      "cell_type": "markdown",
      "metadata": {
        "id": "RhEdWd9YUR6H"
      },
      "source": [
        "### Importación de datos\n",
        "\n"
      ]
    },
    {
      "cell_type": "code",
      "execution_count": 1,
      "metadata": {
        "colab": {
          "base_uri": "https://localhost:8080/",
          "height": 206
        },
        "id": "T3EvaeQ_INIL",
        "outputId": "e9c5efe1-82a3-43ab-e8d7-6d01e4fa3514"
      },
      "outputs": [],
      "source": [
        "import pandas as pd\n",
        "import matplotlib.pyplot as plt\n",
        "\n",
        "url = \"https://raw.githubusercontent.com/alura-es-cursos/challenge1-data-science-latam/refs/heads/main/base-de-datos-challenge1-latam/tienda_1%20.csv\"\n",
        "url2 = \"https://raw.githubusercontent.com/alura-es-cursos/challenge1-data-science-latam/refs/heads/main/base-de-datos-challenge1-latam/tienda_2.csv\"\n",
        "url3 = \"https://raw.githubusercontent.com/alura-es-cursos/challenge1-data-science-latam/refs/heads/main/base-de-datos-challenge1-latam/tienda_3.csv\"\n",
        "url4 = \"https://raw.githubusercontent.com/alura-es-cursos/challenge1-data-science-latam/refs/heads/main/base-de-datos-challenge1-latam/tienda_4.csv\"\n",
        "\n",
        "tienda = pd.read_csv(url)\n",
        "tienda2 = pd.read_csv(url2)\n",
        "tienda3 = pd.read_csv(url3)\n",
        "tienda4 = pd.read_csv(url4)"
      ]
    },
    {
      "cell_type": "markdown",
      "metadata": {},
      "source": [
        "##### Limpieza y analisis"
      ]
    },
    {
      "cell_type": "code",
      "execution_count": null,
      "metadata": {},
      "outputs": [
        {
          "name": "stdout",
          "output_type": "stream",
          "text": [
            "['Artículos para el hogar' 'Deportes y diversión' 'Electrodomésticos'\n",
            " 'Electrónicos' 'Instrumentos musicales' 'Juguetes' 'Libros' 'Muebles']\n",
            "['Artículos para el hogar' 'Deportes y diversión' 'Electrodomésticos'\n",
            " 'Electrónicos' 'Instrumentos musicales' 'Juguetes' 'Libros' 'Muebles']\n",
            "['Artículos para el hogar' 'Deportes y diversión' 'Electrodomésticos'\n",
            " 'Electrónicos' 'Instrumentos musicales' 'Juguetes' 'Libros' 'Muebles']\n",
            "['Artículos para el hogar' 'Deportes y diversión' 'Electrodomésticos'\n",
            " 'Electrónicos' 'Instrumentos musicales' 'Juguetes' 'Libros' 'Muebles']\n"
          ]
        }
      ],
      "source": [
        "#Comparando una misma columna en todas las tiendas\n",
        "\n",
        "print(tienda['Categoría del Producto'].sort_values().unique())\n",
        "print(tienda2['Categoría del Producto'].sort_values().unique())\n",
        "print(tienda3['Categoría del Producto'].sort_values().unique())\n",
        "print(tienda4['Categoría del Producto'].sort_values().unique())\n",
        "\n",
        "#Conclusion: todas tienen la misma categoria"
      ]
    },
    {
      "cell_type": "code",
      "execution_count": null,
      "metadata": {},
      "outputs": [
        {
          "name": "stdout",
          "output_type": "stream",
          "text": [
            "<class 'pandas.core.frame.DataFrame'>\n",
            "RangeIndex: 2359 entries, 0 to 2358\n",
            "Data columns (total 12 columns):\n",
            " #   Column                  Non-Null Count  Dtype  \n",
            "---  ------                  --------------  -----  \n",
            " 0   Producto                2359 non-null   object \n",
            " 1   Categoría del Producto  2359 non-null   object \n",
            " 2   Precio                  2359 non-null   float64\n",
            " 3   Costo de envío          2359 non-null   float64\n",
            " 4   Fecha de Compra         2359 non-null   object \n",
            " 5   Vendedor                2359 non-null   object \n",
            " 6   Lugar de Compra         2359 non-null   object \n",
            " 7   Calificación            2359 non-null   int64  \n",
            " 8   Método de pago          2359 non-null   object \n",
            " 9   Cantidad de cuotas      2359 non-null   int64  \n",
            " 10  lat                     2359 non-null   float64\n",
            " 11  lon                     2359 non-null   float64\n",
            "dtypes: float64(4), int64(2), object(6)\n",
            "memory usage: 221.3+ KB\n",
            "None\n",
            "<class 'pandas.core.frame.DataFrame'>\n",
            "RangeIndex: 2359 entries, 0 to 2358\n",
            "Data columns (total 12 columns):\n",
            " #   Column                  Non-Null Count  Dtype  \n",
            "---  ------                  --------------  -----  \n",
            " 0   Producto                2359 non-null   object \n",
            " 1   Categoría del Producto  2359 non-null   object \n",
            " 2   Precio                  2359 non-null   float64\n",
            " 3   Costo de envío          2359 non-null   float64\n",
            " 4   Fecha de Compra         2359 non-null   object \n",
            " 5   Vendedor                2359 non-null   object \n",
            " 6   Lugar de Compra         2359 non-null   object \n",
            " 7   Calificación            2359 non-null   int64  \n",
            " 8   Método de pago          2359 non-null   object \n",
            " 9   Cantidad de cuotas      2359 non-null   int64  \n",
            " 10  lat                     2359 non-null   float64\n",
            " 11  lon                     2359 non-null   float64\n",
            "dtypes: float64(4), int64(2), object(6)\n",
            "memory usage: 221.3+ KB\n",
            "None\n",
            "<class 'pandas.core.frame.DataFrame'>\n",
            "RangeIndex: 2359 entries, 0 to 2358\n",
            "Data columns (total 12 columns):\n",
            " #   Column                  Non-Null Count  Dtype  \n",
            "---  ------                  --------------  -----  \n",
            " 0   Producto                2359 non-null   object \n",
            " 1   Categoría del Producto  2359 non-null   object \n",
            " 2   Precio                  2359 non-null   float64\n",
            " 3   Costo de envío          2359 non-null   float64\n",
            " 4   Fecha de Compra         2359 non-null   object \n",
            " 5   Vendedor                2359 non-null   object \n",
            " 6   Lugar de Compra         2359 non-null   object \n",
            " 7   Calificación            2359 non-null   int64  \n",
            " 8   Método de pago          2359 non-null   object \n",
            " 9   Cantidad de cuotas      2359 non-null   int64  \n",
            " 10  lat                     2359 non-null   float64\n",
            " 11  lon                     2359 non-null   float64\n",
            "dtypes: float64(4), int64(2), object(6)\n",
            "memory usage: 221.3+ KB\n",
            "None\n",
            "<class 'pandas.core.frame.DataFrame'>\n",
            "RangeIndex: 2358 entries, 0 to 2357\n",
            "Data columns (total 12 columns):\n",
            " #   Column                  Non-Null Count  Dtype  \n",
            "---  ------                  --------------  -----  \n",
            " 0   Producto                2358 non-null   object \n",
            " 1   Categoría del Producto  2358 non-null   object \n",
            " 2   Precio                  2358 non-null   float64\n",
            " 3   Costo de envío          2358 non-null   float64\n",
            " 4   Fecha de Compra         2358 non-null   object \n",
            " 5   Vendedor                2358 non-null   object \n",
            " 6   Lugar de Compra         2358 non-null   object \n",
            " 7   Calificación            2358 non-null   int64  \n",
            " 8   Método de pago          2358 non-null   object \n",
            " 9   Cantidad de cuotas      2358 non-null   int64  \n",
            " 10  lat                     2358 non-null   float64\n",
            " 11  lon                     2358 non-null   float64\n",
            "dtypes: float64(4), int64(2), object(6)\n",
            "memory usage: 221.2+ KB\n",
            "None\n"
          ]
        }
      ],
      "source": [
        "#Analizando las tiendas\n",
        "print(tienda.info())\n",
        "print(tienda2.info())\n",
        "print(tienda3.info())\n",
        "print(tienda4.info())\n",
        "\n",
        "#todos tiene el mismo tamanio y no tienen valores faltantes"
      ]
    },
    {
      "cell_type": "code",
      "execution_count": null,
      "metadata": {},
      "outputs": [
        {
          "data": {
            "text/plain": [
              "Producto                  0\n",
              "Categoría del Producto    0\n",
              "Precio                    0\n",
              "Costo de envío            0\n",
              "Fecha de Compra           0\n",
              "Vendedor                  0\n",
              "Lugar de Compra           0\n",
              "Calificación              0\n",
              "Método de pago            0\n",
              "Cantidad de cuotas        0\n",
              "lat                       0\n",
              "lon                       0\n",
              "dtype: int64"
            ]
          },
          "execution_count": 33,
          "metadata": {},
          "output_type": "execute_result"
        }
      ],
      "source": [
        "#Analizando los archivos\n",
        "tienda4.isnull().sum()  # se comprueba que no tenemos valores nulos"
      ]
    },
    {
      "cell_type": "markdown",
      "metadata": {
        "id": "X62IW3KFUIYm"
      },
      "source": [
        "## 1. Análisis de facturación\n",
        "\n"
      ]
    },
    {
      "cell_type": "code",
      "execution_count": 124,
      "metadata": {
        "id": "xykobSftV64I"
      },
      "outputs": [
        {
          "name": "stdout",
          "output_type": "stream",
          "text": [
            "Total de ventas tienda1 1,150,880,400\n",
            "Total de ventas tienda2 1,116,343,500\n",
            "Total de ventas tienda3 1,098,019,600\n",
            "Total de ventas tienda4 1,038,375,700\n"
          ]
        }
      ],
      "source": [
        "#Total columna de precio\n",
        "totalTienda1 = tienda['Precio'].sum()\n",
        "totalTienda2 = tienda2['Precio'].sum()\n",
        "totalTienda3 = tienda3['Precio'].sum()\n",
        "totalTienda4 = tienda4['Precio'].sum()\n",
        "\n",
        "print(f'Total de ventas tienda1 {totalTienda1:,.0f}')\n",
        "print(f'Total de ventas tienda2 {totalTienda2:,.0f}')\n",
        "print(f'Total de ventas tienda3 {totalTienda3:,.0f}')\n",
        "print(f'Total de ventas tienda4 {totalTienda4:,.0f}')\n",
        "\n",
        "#Conclusion\n",
        "#la tienda que mas vende es la tienda 1 y la que menos la 4"
      ]
    },
    {
      "cell_type": "code",
      "execution_count": 72,
      "metadata": {},
      "outputs": [
        {
          "name": "stdout",
          "output_type": "stream",
          "text": [
            "Porcentaje de venta de tienda2 3.094% menos\n",
            "Porcentaje de venta de tienda3 4.814% menos\n",
            "Porcentaje de venta de tienda4 10.835% menos\n",
            "La diferencia en facturacion entre la tienda1 y la tienda4 es de 112.5 millones\n"
          ]
        }
      ],
      "source": [
        "#Comparativa en porcentajes de venta de las tiendas sobre tienda 1\n",
        "print(f'Porcentaje de venta de tienda2 {round((totalTienda1/totalTienda2*100-100), 3)}% menos')\n",
        "print(f'Porcentaje de venta de tienda3 {round((totalTienda1/totalTienda3*100-100), 3)}% menos')\n",
        "print(f'Porcentaje de venta de tienda4 {round((totalTienda1/totalTienda4*100-100), 3)}% menos')\n",
        "print(f'La diferencia en facturacion entre la tienda1 y la tienda4 es de {round((totalTienda1-totalTienda4)/1000000, 1)} millones')"
      ]
    },
    {
      "cell_type": "code",
      "execution_count": 141,
      "metadata": {},
      "outputs": [
        {
          "data": {
            "image/png": "[encoded data removed]",
            "text/plain": [
              "<Figure size 640x480 with 1 Axes>"
            ]
          },
          "metadata": {},
          "output_type": "display_data"
        }
      ],
      "source": [
        "#visualizacion\n",
        "x= ['Tienda1','Tienda2',\"tienda3\",\"tienda4\"]\n",
        "y =[totalTienda1,totalTienda2,totalTienda3,totalTienda4]\n",
        "plt.plot(x,y, marker='o')\n",
        "plt.title('Ingresos de tiendas por miles')\n",
        "plt.yticks(y)\n",
        "plt.show()"
      ]
    },
    {
      "cell_type": "markdown",
      "metadata": {
        "id": "2V_vcAPzWZmR"
      },
      "source": [
        "## 2. Ventas por categoría"
      ]
    },
    {
      "cell_type": "markdown",
      "metadata": {},
      "source": [
        "##### los mas vendidos por categoria"
      ]
    },
    {
      "cell_type": "code",
      "execution_count": 102,
      "metadata": {},
      "outputs": [],
      "source": [
        "#creamos una funcion para obtener los productos mas vendidos por categoria\n",
        "def productosVendidosCategoria(tienda):\n",
        "    categorias = ['Artículos para el hogar','Deportes y diversión','Electrodomésticos', 'Electrónicos','Instrumentos musicales','Juguetes','Libros','Muebles']\n",
        "    resultado = {}\n",
        "    for categoria in categorias:\n",
        "        cantidad = len(tienda[tienda['Categoría del Producto'] == categoria])\n",
        "        resultado[categoria] = cantidad\n",
        "    resultado_ordenado = dict(sorted(resultado.items(), key=lambda x: x[1], reverse=True))\n",
        "    top_3 = dict(list(resultado_ordenado.items())[:3])\n",
        "    return top_3"
      ]
    },
    {
      "cell_type": "code",
      "execution_count": 117,
      "metadata": {},
      "outputs": [
        {
          "name": "stdout",
          "output_type": "stream",
          "text": [
            "productos mas vendidos tienda1 {'Muebles': 480, 'Electrónicos': 451, 'Juguetes': 338}\n",
            "productos mas vendidos tienda2 {'Muebles': 442, 'Electrónicos': 422, 'Juguetes': 313}\n",
            "productos mas vendidos tienda3 {'Muebles': 499, 'Electrónicos': 451, 'Juguetes': 315}\n",
            "productos mas vendidos tienda4 {'Muebles': 480, 'Electrónicos': 451, 'Juguetes': 338}\n",
            "\n",
            "Los valores para las tiendas son similares y no hay datos que indique que tienda vende mas\n",
            "Por tanto se hace un analisis por las categorias que mas facturan\n"
          ]
        }
      ],
      "source": [
        "print(f'productos mas vendidos tienda1 {productosVendidosCategoria(tienda)}')\n",
        "print(f'productos mas vendidos tienda2 {productosVendidosCategoria(tienda2)}')\n",
        "print(f'productos mas vendidos tienda3 {productosVendidosCategoria(tienda3)}')\n",
        "print(f'productos mas vendidos tienda4 {productosVendidosCategoria(tienda4)}')\n",
        "print('')\n",
        "print('Los valores para las tiendas son similares y no hay datos que indique que tienda vende mas\\nPor tanto se hace un analisis por las categorias que mas facturan')"
      ]
    },
    {
      "cell_type": "markdown",
      "metadata": {},
      "source": [
        "##### Analisis de prueba solo para tienda1"
      ]
    },
    {
      "cell_type": "code",
      "execution_count": null,
      "metadata": {},
      "outputs": [
        {
          "name": "stdout",
          "output_type": "stream",
          "text": [
            "['Artículos para el hogar' 'Deportes y diversión' 'Electrodomésticos'\n",
            " 'Electrónicos' 'Instrumentos musicales' 'Juguetes' 'Libros' 'Muebles']\n",
            "precio 15,074,500   para Artículos para el hogar\n",
            "precio 33,350,100   para Deportes y diversión\n",
            "precio 283,260,200   para Electrodomésticos\n",
            "precio 409,476,100   para Electrónicos\n",
            "precio 75,102,400   para Instrumentos musicales\n",
            "precio 20,262,200   para Juguetes\n",
            "precio 9,321,300   para Libros\n",
            "precio 192,528,900   para Muebles\n"
          ]
        }
      ],
      "source": [
        "#ventas de las tiendas por categorias para tienda1\n",
        "print(tienda['Categoría del Producto'].sort_values().unique())\n",
        "\n",
        "#cual categoria vende mas en tienda 1?\n",
        "categorias = ['Artículos para el hogar', 'Deportes y diversión' ,'Electrodomésticos', 'Electrónicos', 'Instrumentos musicales', 'Juguetes', 'Libros','Muebles']\n",
        "\n",
        "for i in categorias:\n",
        "    a=tienda[tienda['Categoría del Producto']==i]['Precio'].sum()\n",
        "    print(f'precio {a:,.0f}   para {i}')"
      ]
    },
    {
      "cell_type": "code",
      "execution_count": 81,
      "metadata": {},
      "outputs": [
        {
          "data": {
            "image/png": "[encoded data removed]",
            "text/plain": [
              "<Figure size 640x480 with 1 Axes>"
            ]
          },
          "metadata": {},
          "output_type": "display_data"
        }
      ],
      "source": [
        "#Grafica de barras para tienda 1\n",
        "#categorias\n",
        "categorias = ['Artículos para el hogar', 'Deportes y diversión' ,'Electrodomésticos', 'Electrónicos', 'Instrumentos musicales', 'Juguetes', 'Libros','Muebles']\n",
        "x = ['ArtículosHogar', 'Deportes', 'Electrodomésticos', 'Electrónicos', 'Instru. Musicales' ,'Juguetes', 'Libros' ,'Muebles']\n",
        "valores = [tienda[tienda['Categoría del Producto']==i]['Precio'].sum() for i in categorias]\n",
        "\n",
        "plt.bar(x,valores)\n",
        "plt.xticks(fontsize=5)\n",
        "plt.show()"
      ]
    },
    {
      "cell_type": "markdown",
      "metadata": {},
      "source": [
        "##### Analisis para el resto de tiendas"
      ]
    },
    {
      "cell_type": "code",
      "execution_count": 82,
      "metadata": {},
      "outputs": [],
      "source": [
        "#Analisis grafico de ventas por categoria de todas las tiendas\n",
        "categorias = ['Artículos para el hogar', 'Deportes y diversión' ,'Electrodomésticos', 'Electrónicos', 'Instrumentos musicales', 'Juguetes', 'Libros','Muebles']\n",
        "valores  = [tienda[tienda['Categoría del Producto']==i]['Precio'].sum() for i in categorias]\n",
        "valores2 = [tienda2[tienda2['Categoría del Producto']==i]['Precio'].sum() for i in categorias]\n",
        "valores3 = [tienda3[tienda3['Categoría del Producto']==i]['Precio'].sum() for i in categorias]\n",
        "valores4 = [tienda4[tienda4['Categoría del Producto']==i]['Precio'].sum() for i in categorias]"
      ]
    },
    {
      "cell_type": "code",
      "execution_count": 79,
      "metadata": {},
      "outputs": [
        {
          "name": "stdout",
          "output_type": "stream",
          "text": [
            "A = Artículos para el hogar\n",
            "D = Deportes y diversión\n",
            "E = Electrodomésticos\n",
            "El = Electrónicos\n",
            "I = Instrumentos musicales\n",
            "J = Juguetes\n",
            "L = Libros\n",
            "M = Muebles\n"
          ]
        },
        {
          "data": {
            "text/plain": [
              "<BarContainer object of 8 artists>"
            ]
          },
          "execution_count": 79,
          "metadata": {},
          "output_type": "execute_result"
        },
        {
          "data": {
            "image/png": "[encoded data removed]",
            "text/plain": [
              "<Figure size 1500x1500 with 4 Axes>"
            ]
          },
          "metadata": {},
          "output_type": "display_data"
        }
      ],
      "source": [
        "x= ['A','D','E','El','I','J','L','M']\n",
        "for i in range(8):\n",
        "    print(f'{x[i]} = {categorias[i]}')\n",
        "    \n",
        "fig, ax = plt.subplots(1,4, sharey=True, figsize=(15,15))\n",
        "ax[0].bar(x,valores)\n",
        "ax[1].bar(x,valores2)\n",
        "ax[2].bar(x,valores3)\n",
        "ax[3].bar(x,valores4)"
      ]
    },
    {
      "cell_type": "code",
      "execution_count": 126,
      "metadata": {},
      "outputs": [
        {
          "name": "stdout",
          "output_type": "stream",
          "text": [
            "Categorias electrodomesticos, electronicos y muebles tienda1 $885,265,200\n",
            "Categorias electrodomesticos, electronicos y muebles tienda2 $935,825,200\n",
            "Categorias electrodomesticos, electronicos y muebles tienda3 $941,085,800\n",
            "Categorias electrodomesticos, electronicos y muebles tienda4 $885,265,200\n",
            "\n",
            "Porcentaje de venta de tienda1 6.306% menos\n",
            "Porcentaje de venta de tienda2 0.562% menos\n",
            "Porcentaje de venta de tienda4 6.306% menos\n",
            "La diferencia en facturacion entre la tienda3 que mas vende y la menos vende es de 55.8 millones\n",
            "\n",
            "Conclusion: A pesar que las categorias mas vendidas son  muebles, electronicos\n",
            "            y juguetes la realidad es que los que generan mas recursos son\n",
            "            las categorias electrodomesticos, electronicos y muebles\n",
            "Conclusion2: tanto la tienda 1 y 4 venden 6.3% menos eso es 55.8 millones menos\n"
          ]
        }
      ],
      "source": [
        "#Conclusiones:\n",
        "#las categorias que mas se venden en conjunto son 'electrodomesticos', 'electronicos' y muebles\n",
        "#categorias = ['Artículos para el hogar', 'Deportes y diversión' ,'Electrodomésticos', 'Electrónicos', 'Instrumentos musicales', 'Juguetes', 'Libros','Muebles']\n",
        "#categorias que vamos a sumar  =[2,3,7] =>'electrodomesticos', 'electronicos' y muebles\n",
        "categoriaSuma  = valores[2] +  valores[3] +  valores[7]\n",
        "categoriaSuma2 = valores2[2] + valores2[3] + valores2[7]\n",
        "categoriaSuma3 = valores3[2] + valores3[3] + valores3[7]\n",
        "categoriaSuma4 = valores4[2] + valores4[3] + valores4[7]\n",
        "\n",
        "print(f'Categorias electrodomesticos, electronicos y muebles tienda1 ${categoriaSuma:,.0f}')\n",
        "print(f'Categorias electrodomesticos, electronicos y muebles tienda2 ${categoriaSuma2:,.0f}')\n",
        "print(f'Categorias electrodomesticos, electronicos y muebles tienda3 ${categoriaSuma3:,.0f}')\n",
        "print(f'Categorias electrodomesticos, electronicos y muebles tienda4 ${categoriaSuma4:,.0f}')\n",
        "print('')\n",
        "#Comparativa en porcentajes de venta de las tiendas sobre tienda 1\n",
        "print(f'Porcentaje de venta de tienda1 {round((categoriaSuma3/categoriaSuma*100-100), 3)}% menos')\n",
        "print(f'Porcentaje de venta de tienda2 {round((categoriaSuma3/categoriaSuma2*100-100), 3)}% menos')\n",
        "print(f'Porcentaje de venta de tienda4 {round((categoriaSuma3/categoriaSuma4*100-100), 3)}% menos')\n",
        "print(f'La diferencia en facturacion entre la tienda3 que mas vende y la menos vende es de {round((categoriaSuma3-categoriaSuma4)/1000000, 1)} millones') \n",
        "print('')\n",
        "print('Conclusion: A pesar que las categorias mas vendidas son  muebles, electronicos\\n            y juguetes la realidad es que los que generan mas recursos son\\n            las categorias electrodomesticos, electronicos y muebles')  \n",
        "print('Conclusion2: tanto la tienda 1 y 4 venden 6.3% menos eso es 55.8 millones menos')"
      ]
    },
    {
      "cell_type": "markdown",
      "metadata": {
        "id": "Rq6tU_xSY3jk"
      },
      "source": [
        "# 3. Calificación promedio de la tienda\n"
      ]
    },
    {
      "cell_type": "code",
      "execution_count": 130,
      "metadata": {
        "id": "I0KkjPoTY88F"
      },
      "outputs": [
        {
          "name": "stdout",
          "output_type": "stream",
          "text": [
            "calificacion total por tienda1 9422\n",
            "calificacion total por tienda2 9524\n",
            "calificacion total por tienda3 9550\n",
            "calificacion total por tienda4 9422\n",
            "\n",
            "Las tiendas 2 y 4 superan a las tiendas 1 y 4 por 128 puntos mas, estos datos no son concluyentes\n"
          ]
        }
      ],
      "source": [
        "#se puede hallar la calificacion por tienda, pero como se vio en el anterior ejercicio \n",
        "#los productos electrodomesticos, electronicos y muebles son en suma la mayor parte de ingreso\n",
        "#nos vamos a enfocar en esos productos\n",
        "\n",
        "totalTiendas = [tienda,tienda2,tienda3,tienda4]\n",
        "\n",
        "for indice,tienda in enumerate(totalTiendas):\n",
        "    print(f'calificacion total por tienda{indice+1}',tienda['Calificación'].sum())  \n",
        "\n",
        "print('')\n",
        "print(f'Las tiendas 2 y 4 superan a las tiendas 1 y 4 por {9550-9422} puntos mas, estos datos no son concluyentes')  "
      ]
    },
    {
      "cell_type": "code",
      "execution_count": 132,
      "metadata": {},
      "outputs": [
        {
          "name": "stdout",
          "output_type": "stream",
          "text": [
            "tienda1 en categoria:Electrodomésticos,Electrónicos,Muebles  4724\n",
            "tienda2 en categoria:Electrodomésticos,Electrónicos,Muebles  4727\n",
            "tienda3 en categoria:Electrodomésticos,Electrónicos,Muebles  4958\n",
            "tienda4 en categoria:Electrodomésticos,Electrónicos,Muebles  4724\n",
            "la tienda3 tiene 2.45% mas calificaciones que las otras\n",
            "\n",
            "Conclusion: tanto por el total como por las categorias mas vendidas las calificaciones para\n",
            "            todas las tiendas son muy similares  y por lo tanto no concluyentes\n"
          ]
        }
      ],
      "source": [
        "#estos datos no sirven para obtener un diferencial tanto tienda 1y 4 tienne el mismo valor\n",
        "#y basicamente no hay diferencia entre 2y3\n",
        "\n",
        "#tomamos la calificaion por las categoria prncipales que son las que tiene mas peso economicamente\n",
        "categoriasPrincipal= ['Electrodomésticos','Electrónicos','Muebles']\n",
        "\n",
        "for indice,tienda in enumerate(totalTiendas):\n",
        "    suma=0\n",
        "    for categoria in categoriasPrincipal:\n",
        "        total =tienda[tienda['Categoría del Producto']==categoria]['Calificación'].sum()\n",
        "        suma =suma+total\n",
        "    print(f'tienda{indice+1} en categoria:Electrodomésticos,Electrónicos,Muebles  {suma}')\n",
        "\n",
        "#por este metodo tienda3 tiene 233 votos mas que las otras tiendas\n",
        "print(f'la tienda3 tiene {round((233*100/9500), 2)}% mas calificaciones que las otras')\n",
        "print('')\n",
        "print('Conclusion: tanto por el total como por las categorias mas vendidas las calificaciones para\\n            todas las tiendas son muy similares  y por lo tanto no concluyentes')"
      ]
    },
    {
      "cell_type": "markdown",
      "metadata": {
        "id": "DmNp1KPBZCm-"
      },
      "source": [
        "# 4. Productos más y menos vendidos"
      ]
    },
    {
      "cell_type": "code",
      "execution_count": null,
      "metadata": {
        "id": "0Sw3sd4IZIGW"
      },
      "outputs": [
        {
          "data": {
            "text/html": [
              "<div>\n",
              "<style scoped>\n",
              "    .dataframe tbody tr th:only-of-type {\n",
              "        vertical-align: middle;\n",
              "    }\n",
              "\n",
              "    .dataframe tbody tr th {\n",
              "        vertical-align: top;\n",
              "    }\n",
              "\n",
              "    .dataframe thead th {\n",
              "        text-align: right;\n",
              "    }\n",
              "</style>\n",
              "<table border=\"1\" class=\"dataframe\">\n",
              "  <thead>\n",
              "    <tr style=\"text-align: right;\">\n",
              "      <th></th>\n",
              "      <th>Tienda1</th>\n",
              "      <th>Tienda2</th>\n",
              "      <th>Tienda3</th>\n",
              "      <th>Tienda4</th>\n",
              "    </tr>\n",
              "    <tr>\n",
              "      <th>Producto</th>\n",
              "      <th></th>\n",
              "      <th></th>\n",
              "      <th></th>\n",
              "      <th></th>\n",
              "    </tr>\n",
              "  </thead>\n",
              "  <tbody>\n",
              "    <tr>\n",
              "      <th>Armario</th>\n",
              "      <td>60.0</td>\n",
              "      <td></td>\n",
              "      <td></td>\n",
              "      <td></td>\n",
              "    </tr>\n",
              "    <tr>\n",
              "      <th>Batería</th>\n",
              "      <td></td>\n",
              "      <td>61.0</td>\n",
              "      <td></td>\n",
              "      <td></td>\n",
              "    </tr>\n",
              "    <tr>\n",
              "      <th>Cama box</th>\n",
              "      <td></td>\n",
              "      <td></td>\n",
              "      <td></td>\n",
              "      <td>62.0</td>\n",
              "    </tr>\n",
              "    <tr>\n",
              "      <th>Cama king</th>\n",
              "      <td></td>\n",
              "      <td></td>\n",
              "      <td>56.0</td>\n",
              "      <td></td>\n",
              "    </tr>\n",
              "    <tr>\n",
              "      <th>Cubertería</th>\n",
              "      <td></td>\n",
              "      <td></td>\n",
              "      <td></td>\n",
              "      <td>59.0</td>\n",
              "    </tr>\n",
              "    <tr>\n",
              "      <th>Dashboards con Power BI</th>\n",
              "      <td></td>\n",
              "      <td></td>\n",
              "      <td></td>\n",
              "      <td>56.0</td>\n",
              "    </tr>\n",
              "    <tr>\n",
              "      <th>Iniciando en programación</th>\n",
              "      <td></td>\n",
              "      <td>65.0</td>\n",
              "      <td></td>\n",
              "      <td></td>\n",
              "    </tr>\n",
              "    <tr>\n",
              "      <th>Kit de bancas</th>\n",
              "      <td></td>\n",
              "      <td></td>\n",
              "      <td>57.0</td>\n",
              "      <td></td>\n",
              "    </tr>\n",
              "    <tr>\n",
              "      <th>Mesa de comedor</th>\n",
              "      <td></td>\n",
              "      <td></td>\n",
              "      <td>56.0</td>\n",
              "      <td></td>\n",
              "    </tr>\n",
              "    <tr>\n",
              "      <th>Microondas</th>\n",
              "      <td>60.0</td>\n",
              "      <td>62.0</td>\n",
              "      <td></td>\n",
              "      <td></td>\n",
              "    </tr>\n",
              "    <tr>\n",
              "      <th>TV LED UHD 4K</th>\n",
              "      <td>60.0</td>\n",
              "      <td></td>\n",
              "      <td></td>\n",
              "      <td></td>\n",
              "    </tr>\n",
              "  </tbody>\n",
              "</table>\n",
              "</div>"
            ],
            "text/plain": [
              "                          Tienda1 Tienda2 Tienda3 Tienda4\n",
              "Producto                                                 \n",
              "Armario                      60.0                        \n",
              "Batería                              61.0                \n",
              "Cama box                                             62.0\n",
              "Cama king                                    56.0        \n",
              "Cubertería                                           59.0\n",
              "Dashboards con Power BI                              56.0\n",
              "Iniciando en programación            65.0                \n",
              "Kit de bancas                                57.0        \n",
              "Mesa de comedor                              56.0        \n",
              "Microondas                   60.0    62.0                \n",
              "TV LED UHD 4K                60.0                        "
            ]
          },
          "execution_count": 76,
          "metadata": {},
          "output_type": "execute_result"
        }
      ],
      "source": [
        "# buscamos el top de productos mas vendidos por tienda\n",
        "max1 = pd.Series( tienda['Producto'].value_counts().head(3))\n",
        "max2 = pd.Series(tienda2['Producto'].value_counts().head(3))\n",
        "max3 = pd.Series(tienda3['Producto'].value_counts().head(3))\n",
        "max4 = pd.Series(tienda4['Producto'].value_counts().head(3))\n",
        "\n",
        "#visualizamos los datos\n",
        "produtosMaxVendidosDicc = {'Tienda1':max1,'Tienda2':max2,'Tienda3':max3,'Tienda4':max4}\n",
        "produtosMaxVendidos = pd.DataFrame(produtosMaxVendidosDicc)\n",
        "produtosMaxVendidos.fillna('')\n"
      ]
    },
    {
      "cell_type": "code",
      "execution_count": 78,
      "metadata": {},
      "outputs": [
        {
          "data": {
            "text/html": [
              "<div>\n",
              "<style scoped>\n",
              "    .dataframe tbody tr th:only-of-type {\n",
              "        vertical-align: middle;\n",
              "    }\n",
              "\n",
              "    .dataframe tbody tr th {\n",
              "        vertical-align: top;\n",
              "    }\n",
              "\n",
              "    .dataframe thead th {\n",
              "        text-align: right;\n",
              "    }\n",
              "</style>\n",
              "<table border=\"1\" class=\"dataframe\">\n",
              "  <thead>\n",
              "    <tr style=\"text-align: right;\">\n",
              "      <th></th>\n",
              "      <th>Tienda1</th>\n",
              "      <th>Tienda2</th>\n",
              "      <th>Tienda3</th>\n",
              "      <th>Tienda4</th>\n",
              "    </tr>\n",
              "    <tr>\n",
              "      <th>Producto</th>\n",
              "      <th></th>\n",
              "      <th></th>\n",
              "      <th></th>\n",
              "      <th></th>\n",
              "    </tr>\n",
              "  </thead>\n",
              "  <tbody>\n",
              "    <tr>\n",
              "      <th>Armario</th>\n",
              "      <td></td>\n",
              "      <td></td>\n",
              "      <td></td>\n",
              "      <td>34.0</td>\n",
              "    </tr>\n",
              "    <tr>\n",
              "      <th>Auriculares con micrófono</th>\n",
              "      <td>33.0</td>\n",
              "      <td></td>\n",
              "      <td></td>\n",
              "      <td></td>\n",
              "    </tr>\n",
              "    <tr>\n",
              "      <th>Bloques de construcción</th>\n",
              "      <td></td>\n",
              "      <td></td>\n",
              "      <td>35.0</td>\n",
              "      <td></td>\n",
              "    </tr>\n",
              "    <tr>\n",
              "      <th>Celular ABXY</th>\n",
              "      <td>33.0</td>\n",
              "      <td></td>\n",
              "      <td></td>\n",
              "      <td></td>\n",
              "    </tr>\n",
              "    <tr>\n",
              "      <th>Guitarra acústica</th>\n",
              "      <td></td>\n",
              "      <td></td>\n",
              "      <td></td>\n",
              "      <td>37.0</td>\n",
              "    </tr>\n",
              "    <tr>\n",
              "      <th>Guitarra eléctrica</th>\n",
              "      <td></td>\n",
              "      <td></td>\n",
              "      <td></td>\n",
              "      <td>33.0</td>\n",
              "    </tr>\n",
              "    <tr>\n",
              "      <th>Impresora</th>\n",
              "      <td></td>\n",
              "      <td>34.0</td>\n",
              "      <td></td>\n",
              "      <td></td>\n",
              "    </tr>\n",
              "    <tr>\n",
              "      <th>Juego de mesa</th>\n",
              "      <td></td>\n",
              "      <td>32.0</td>\n",
              "      <td></td>\n",
              "      <td></td>\n",
              "    </tr>\n",
              "    <tr>\n",
              "      <th>Mesa de comedor</th>\n",
              "      <td></td>\n",
              "      <td>34.0</td>\n",
              "      <td></td>\n",
              "      <td></td>\n",
              "    </tr>\n",
              "    <tr>\n",
              "      <th>Microondas</th>\n",
              "      <td></td>\n",
              "      <td></td>\n",
              "      <td>36.0</td>\n",
              "      <td></td>\n",
              "    </tr>\n",
              "    <tr>\n",
              "      <th>Olla de presión</th>\n",
              "      <td>35.0</td>\n",
              "      <td></td>\n",
              "      <td></td>\n",
              "      <td></td>\n",
              "    </tr>\n",
              "    <tr>\n",
              "      <th>Set de vasos</th>\n",
              "      <td></td>\n",
              "      <td></td>\n",
              "      <td>36.0</td>\n",
              "      <td></td>\n",
              "    </tr>\n",
              "  </tbody>\n",
              "</table>\n",
              "</div>"
            ],
            "text/plain": [
              "                          Tienda1 Tienda2 Tienda3 Tienda4\n",
              "Producto                                                 \n",
              "Armario                                              34.0\n",
              "Auriculares con micrófono    33.0                        \n",
              "Bloques de construcción                      35.0        \n",
              "Celular ABXY                 33.0                        \n",
              "Guitarra acústica                                    37.0\n",
              "Guitarra eléctrica                                   33.0\n",
              "Impresora                            34.0                \n",
              "Juego de mesa                        32.0                \n",
              "Mesa de comedor                      34.0                \n",
              "Microondas                                   36.0        \n",
              "Olla de presión              35.0                        \n",
              "Set de vasos                                 36.0        "
            ]
          },
          "execution_count": 78,
          "metadata": {},
          "output_type": "execute_result"
        }
      ],
      "source": [
        "# buscamos el top de productos menos vendidos por tienda\n",
        "min1 = pd.Series( tienda['Producto'].value_counts().tail(3))\n",
        "min2 = pd.Series(tienda2['Producto'].value_counts().tail(3))\n",
        "min3 = pd.Series(tienda3['Producto'].value_counts().tail(3))\n",
        "min4 = pd.Series(tienda4['Producto'].value_counts().tail(3))\n",
        "\n",
        "#visualizamos los datos\n",
        "produtosMinVendidosDicc = {'Tienda1':min1,'Tienda2':min2,'Tienda3':min3,'Tienda4':min4}\n",
        "produtosMinVendidos = pd.DataFrame(produtosMinVendidosDicc)\n",
        "produtosMinVendidos.fillna('')"
      ]
    },
    {
      "cell_type": "code",
      "execution_count": 87,
      "metadata": {},
      "outputs": [
        {
          "name": "stdout",
          "output_type": "stream",
          "text": [
            "Conclusion: Tanto los productos de maxima y minima venta no resaltan\n",
            "            y como maximo representan el 2.8% del total\n"
          ]
        }
      ],
      "source": [
        "#conclusion\n",
        "num = tienda['Producto'].count()\n",
        "print(f'Conclusion: Tanto los productos de maxima y minima venta no resaltan\\n            y como maximo representan el {round(65*100/num, 1)}% del total')\n"
      ]
    },
    {
      "cell_type": "markdown",
      "metadata": {
        "id": "Fl0cGi3bZKqU"
      },
      "source": [
        "# 5. Envío promedio por tienda"
      ]
    },
    {
      "cell_type": "code",
      "execution_count": 88,
      "metadata": {
        "id": "S2JeaCykZNy9"
      },
      "outputs": [
        {
          "data": {
            "text/html": [
              "<div>\n",
              "<style scoped>\n",
              "    .dataframe tbody tr th:only-of-type {\n",
              "        vertical-align: middle;\n",
              "    }\n",
              "\n",
              "    .dataframe tbody tr th {\n",
              "        vertical-align: top;\n",
              "    }\n",
              "\n",
              "    .dataframe thead th {\n",
              "        text-align: right;\n",
              "    }\n",
              "</style>\n",
              "<table border=\"1\" class=\"dataframe\">\n",
              "  <thead>\n",
              "    <tr style=\"text-align: right;\">\n",
              "      <th></th>\n",
              "      <th>Producto</th>\n",
              "      <th>Categoría del Producto</th>\n",
              "      <th>Precio</th>\n",
              "      <th>Costo de envío</th>\n",
              "      <th>Fecha de Compra</th>\n",
              "      <th>Vendedor</th>\n",
              "      <th>Lugar de Compra</th>\n",
              "      <th>Calificación</th>\n",
              "      <th>Método de pago</th>\n",
              "      <th>Cantidad de cuotas</th>\n",
              "      <th>lat</th>\n",
              "      <th>lon</th>\n",
              "    </tr>\n",
              "  </thead>\n",
              "  <tbody>\n",
              "    <tr>\n",
              "      <th>0</th>\n",
              "      <td>Asistente virtual</td>\n",
              "      <td>Electrónicos</td>\n",
              "      <td>164300.0</td>\n",
              "      <td>6900.0</td>\n",
              "      <td>16/01/2021</td>\n",
              "      <td>Pedro Gomez</td>\n",
              "      <td>Bogotá</td>\n",
              "      <td>4</td>\n",
              "      <td>Tarjeta de crédito</td>\n",
              "      <td>8</td>\n",
              "      <td>4.60971</td>\n",
              "      <td>-74.08175</td>\n",
              "    </tr>\n",
              "    <tr>\n",
              "      <th>1</th>\n",
              "      <td>Mesa de comedor</td>\n",
              "      <td>Muebles</td>\n",
              "      <td>192300.0</td>\n",
              "      <td>8400.0</td>\n",
              "      <td>18/05/2022</td>\n",
              "      <td>Beatriz Morales</td>\n",
              "      <td>Medellín</td>\n",
              "      <td>1</td>\n",
              "      <td>Tarjeta de crédito</td>\n",
              "      <td>4</td>\n",
              "      <td>6.25184</td>\n",
              "      <td>-75.56359</td>\n",
              "    </tr>\n",
              "    <tr>\n",
              "      <th>2</th>\n",
              "      <td>Juego de mesa</td>\n",
              "      <td>Juguetes</td>\n",
              "      <td>209600.0</td>\n",
              "      <td>15900.0</td>\n",
              "      <td>15/03/2021</td>\n",
              "      <td>Juan Fernandez</td>\n",
              "      <td>Cartagena</td>\n",
              "      <td>1</td>\n",
              "      <td>Tarjeta de crédito</td>\n",
              "      <td>1</td>\n",
              "      <td>10.39972</td>\n",
              "      <td>-75.51444</td>\n",
              "    </tr>\n",
              "    <tr>\n",
              "      <th>3</th>\n",
              "      <td>Microondas</td>\n",
              "      <td>Electrodomésticos</td>\n",
              "      <td>757500.0</td>\n",
              "      <td>41000.0</td>\n",
              "      <td>03/05/2022</td>\n",
              "      <td>Juan Fernandez</td>\n",
              "      <td>Cali</td>\n",
              "      <td>4</td>\n",
              "      <td>Nequi</td>\n",
              "      <td>1</td>\n",
              "      <td>3.43722</td>\n",
              "      <td>-76.52250</td>\n",
              "    </tr>\n",
              "    <tr>\n",
              "      <th>4</th>\n",
              "      <td>Silla de oficina</td>\n",
              "      <td>Muebles</td>\n",
              "      <td>335200.0</td>\n",
              "      <td>20200.0</td>\n",
              "      <td>07/11/2020</td>\n",
              "      <td>Maria Alfonso</td>\n",
              "      <td>Medellín</td>\n",
              "      <td>5</td>\n",
              "      <td>Nequi</td>\n",
              "      <td>1</td>\n",
              "      <td>6.25184</td>\n",
              "      <td>-75.56359</td>\n",
              "    </tr>\n",
              "  </tbody>\n",
              "</table>\n",
              "</div>"
            ],
            "text/plain": [
              "            Producto Categoría del Producto    Precio  Costo de envío  \\\n",
              "0  Asistente virtual           Electrónicos  164300.0          6900.0   \n",
              "1    Mesa de comedor                Muebles  192300.0          8400.0   \n",
              "2      Juego de mesa               Juguetes  209600.0         15900.0   \n",
              "3         Microondas      Electrodomésticos  757500.0         41000.0   \n",
              "4   Silla de oficina                Muebles  335200.0         20200.0   \n",
              "\n",
              "  Fecha de Compra         Vendedor Lugar de Compra  Calificación  \\\n",
              "0      16/01/2021      Pedro Gomez          Bogotá             4   \n",
              "1      18/05/2022  Beatriz Morales        Medellín             1   \n",
              "2      15/03/2021   Juan Fernandez       Cartagena             1   \n",
              "3      03/05/2022   Juan Fernandez            Cali             4   \n",
              "4      07/11/2020    Maria Alfonso        Medellín             5   \n",
              "\n",
              "       Método de pago  Cantidad de cuotas       lat       lon  \n",
              "0  Tarjeta de crédito                   8   4.60971 -74.08175  \n",
              "1  Tarjeta de crédito                   4   6.25184 -75.56359  \n",
              "2  Tarjeta de crédito                   1  10.39972 -75.51444  \n",
              "3               Nequi                   1   3.43722 -76.52250  \n",
              "4               Nequi                   1   6.25184 -75.56359  "
            ]
          },
          "execution_count": 88,
          "metadata": {},
          "output_type": "execute_result"
        }
      ],
      "source": [
        "tienda.head()"
      ]
    },
    {
      "cell_type": "code",
      "execution_count": null,
      "metadata": {
        "id": "0tSdCie9ZQlt"
      },
      "outputs": [
        {
          "data": {
            "text/html": [
              "<div>\n",
              "<style scoped>\n",
              "    .dataframe tbody tr th:only-of-type {\n",
              "        vertical-align: middle;\n",
              "    }\n",
              "\n",
              "    .dataframe tbody tr th {\n",
              "        vertical-align: top;\n",
              "    }\n",
              "\n",
              "    .dataframe thead th {\n",
              "        text-align: right;\n",
              "    }\n",
              "</style>\n",
              "<table border=\"1\" class=\"dataframe\">\n",
              "  <thead>\n",
              "    <tr style=\"text-align: right;\">\n",
              "      <th></th>\n",
              "      <th>Tienda1</th>\n",
              "      <th>Tienda2</th>\n",
              "      <th>Tienda3</th>\n",
              "      <th>Tienda4</th>\n",
              "    </tr>\n",
              "  </thead>\n",
              "  <tbody>\n",
              "    <tr>\n",
              "      <th>0</th>\n",
              "      <td>26018.6</td>\n",
              "      <td>25216.2</td>\n",
              "      <td>24805.7</td>\n",
              "      <td>23459.5</td>\n",
              "    </tr>\n",
              "  </tbody>\n",
              "</table>\n",
              "</div>"
            ],
            "text/plain": [
              "   Tienda1  Tienda2  Tienda3  Tienda4\n",
              "0  26018.6  25216.2  24805.7  23459.5"
            ]
          },
          "execution_count": 116,
          "metadata": {},
          "output_type": "execute_result"
        }
      ],
      "source": [
        "#costo promedio de envio por tienda\n",
        "costoEnvio1 =round( (tienda ['Costo de envío'].sum()) / tienda ['Costo de envío'].count(), 1)\n",
        "costoEnvio2 =round( (tienda2['Costo de envío'].sum()) / tienda2['Costo de envío'].count(), 1)\n",
        "costoEnvio3 =round( (tienda3['Costo de envío'].sum()) / tienda3['Costo de envío'].count(), 1)\n",
        "costoEnvio4 =round( (tienda4['Costo de envío'].sum()) / tienda4['Costo de envío'].count(), 1)\n",
        "\n",
        "#visualizacion\n",
        "costoEnvioDicc = {'Tienda1':[costoEnvio1],'Tienda2':[costoEnvio2],'Tienda3':[costoEnvio3],'Tienda4':[costoEnvio4]}\n",
        "costoEnvio = pd.DataFrame(costoEnvioDicc)#\n",
        "costoEnvio"
      ]
    },
    {
      "cell_type": "code",
      "execution_count": 135,
      "metadata": {},
      "outputs": [
        {
          "name": "stdout",
          "output_type": "stream",
          "text": [
            "La tienda que tiene el envio mas economico en general es tienda4\n",
            "con una diferencia de 2,559.0 comparada con la tienda1 que tiene el envio mas costoso en promedio\n",
            "sin embargo la tienda1 es la que mas factura y la tienda 4 la que menos\n",
            "\n",
            "Facturacion tienda1 entre total de envio 0.002261%\n",
            "Facturacion tienda2 entre total de envio 0.002259%\n",
            "Facturacion tienda3 entre total de envio 0.002259%\n",
            "Facturacion tienda4 entre total de envio 0.002259%\n",
            "\n",
            "Conclusion: el costo del envio comparado con la facturacion de cada tienda es muy bajo y similar en todos\n"
          ]
        }
      ],
      "source": [
        "#analisis\n",
        "print(f'La tienda que tiene el envio mas economico en general es tienda4\\ncon una diferencia de {round( costoEnvio1-costoEnvio4 ):,.1f} comparada con la tienda1 que tiene el envio mas costoso en promedio\\nsin embargo la tienda1 es la que mas factura y la tienda 4 la que menos')\n",
        "\n",
        "#comparacion del total de facturacion de cada tienda por el total del envio\n",
        "print('')\n",
        "print( f'Facturacion tienda1 entre total de envio {round( costoEnvio1*100/totalTienda1, 6)}%')\n",
        "print( f'Facturacion tienda2 entre total de envio {round( costoEnvio2*100/totalTienda2, 6)}%')\n",
        "print( f'Facturacion tienda3 entre total de envio {round( costoEnvio3*100/totalTienda3, 6)}%')\n",
        "print( f'Facturacion tienda4 entre total de envio {round( costoEnvio4*100/totalTienda4, 6)}%')\n",
        "print('')\n",
        "print('Conclusion: el costo del envio comparado con la facturacion de cada tienda es muy bajo y similar en todos')\n"
      ]
    },
    {
      "cell_type": "markdown",
      "metadata": {},
      "source": [
        "# **Analisis y conclusiones finales**"
      ]
    },
    {
      "cell_type": "markdown",
      "metadata": {},
      "source": [
        "##### Introduccion: Se necesita escoger una tienda para vender de las 4  que tenemos\n",
        "\n",
        "##### Costo Promedio de Envío por Tienda\n",
        "*   **Tienda 1:** $26,018.61\n",
        "*   **Tienda 2:** $25,216.24\n",
        "*   **Tienda 3:** $24,805.68\n",
        "*   **Tienda 4:** $23,459.46\n",
        "\n",
        "##### En cuanto al **costo promedio del envio por producto** , el mas bajo es de la tienda 4, y el mas alto es de la tienda1 por una difererencia de $2.559, sin embargo revizando la entrada monetaria sobre el costo del envio , la tienda 1 (que es la que mas ingresos tiene) tiene un porcentaje similar a la del costo promedio menor de envio, por tanto el costo costo de envio no determina una mejor tienda que otra\n",
        "\n",
        "##### Productos Más y Menos Vendidos (Unidades)\n",
        "*   **Tienda 1:**\n",
        "    *   Más vendido: Microondas, Armario, TV LED UHD (60 unidades)\n",
        "    *   Menos vendido: Auriculares con micrófono, Celular ABXY (33 unidades), olla a presion (35 Und.)\n",
        "*   **Tienda 2:**\n",
        "    *   Más vendido: Iniciando en programación (65 unidades), Microondas (63 Und.)\n",
        "    *   Menos vendido: Juego de mesa (32 unidades), impresora, mesa de comedor (35 und.)\n",
        "*   **Tienda 3:**\n",
        "    *   Más vendido: Kit de bancas (57 unidades), camaking , mesa de comedor (56 und.)\n",
        "    *   Menos vendido: Bloques de construcción (35 unidades), microondas, set vasos (36 und)\n",
        "*   **Tienda 4:**\n",
        "    *   Más vendido: Cama box (62 unidades), cuberteria (59 und)\n",
        "    *   Menos vendido: Guitarra eléctrica (33 unidades), armario (34 und), Guitarra acústica(37 und)\n",
        "\n",
        "##### **productos mas vendidos por tienda**, para este caso los productos mas y menos vendidos por tienda no superan las 65 unidades, que representan el 2.8% del total de ventas de una tienda , con tales numeros  no hay una inclinacion a escojer una tienda u otra por el numero de unidades vendidas\n",
        "\n",
        "##### Calificación Promedio de Clientes por Tienda\n",
        "*   **Tienda 1:** 4.00 / 5\n",
        "*   **Tienda 2:** 4.04 / 5\n",
        "*   **Tienda 3:** 4.05 / 5\n",
        "*   **Tienda 4:** 4.00 / 5\n",
        "##### Para las **Calificaciones por tienda** igual que el los demas casos los datos soy muy parecidos , la tienda 4 y 1 comparten la misma calificacion 1422 puntos, siendo superadas por la tienda 3 por solo 122 puntos que representa el 2.45%, por tanto no hay inclinacion a escojer una tienda por medio de esta metrica\n",
        "\n",
        "##### Ventas por Categoría (Popularidad)\n",
        "*   **Tienda 1:** Muebles: 480, Electrónicos: 451, Juguetes: 338\n",
        "*   **Tienda 2:** Muebles: 442, Electrónicos: 422, Juguetes: 313\n",
        "*   **Tienda 3:** Muebles: 499, Electrónicos: 451, Juguetes: 315\n",
        "*   **Tienda 4:** Muebles: 480, Electrónicos: 451, Juguetes: 338\n",
        "\n",
        "##### Para los **ventas por categoria** igual que sucede con los anteriores casos los valores son muy parejos, compartiendo los mismos producto mas vendidos y cantidades muy similares , no aportando a la desicion de escoger una tienda u otra por estas metricas.\n",
        "\n",
        "#####  Facturación Total por Tienda\n",
        "*   **Tienda 1:** $1,150,880,400\n",
        "*   **Tienda 2:** $1,116,343,500\n",
        "*   **Tienda 3:** $1,098,019,600\n",
        "*   **Tienda 4:** $1,038,375,700\n",
        "##### Quedandonos finalmente la metrica que por la que nos decantamos para escojer, **el valor de facturacion por tienda** donde la tienda que menos vende es la tienda4  que comparada con la tienda1 que es la que mas vende es de 112.5 millones de diferencia, comparando todas tenemos tienda2 3.094% menos, tienda3 4.814% menos y tienda4 10.835% menos\n",
        "##### Por las anteriores  datos se concluye que la tienda que se debe vender es la **tienda4**"
      ]
    },
    {
      "cell_type": "markdown",
      "metadata": {},
      "source": [
        "# ¡Extra! Análisis del desempeño geográfico"
      ]
    },
    {
      "cell_type": "code",
      "execution_count": 166,
      "metadata": {},
      "outputs": [
        {
          "data": {
            "image/png": "[encoded data removed]",
            "text/plain": [
              "<Figure size 1500x1500 with 4 Axes>"
            ]
          },
          "metadata": {},
          "output_type": "display_data"
        },
        {
          "name": "stdout",
          "output_type": "stream",
          "text": [
            "--- Visualización 1: Scatter Plot Geográfico (por Tienda) ---\n"
          ]
        }
      ],
      "source": [
        "fig, ax =plt.subplots(1,4, figsize=(15,15))\n",
        "ax[0].scatter(tienda['lon'], tienda['lat'], alpha=0.5, c='blue')\n",
        "ax[1].scatter(tienda2['lon'], tienda2['lat'], alpha=0.5, c='blue')\n",
        "ax[2].scatter(tienda3['lon'], tienda3['lat'], alpha=0.5, c='blue')\n",
        "ax[3].scatter(tienda4['lon'], tienda4['lat'], alpha=0.5, c='blue')\n",
        "plt.show()\n",
        "print('--- Visualización 1: Scatter Plot Geográfico (por Tienda) ---')"
      ]
    },
    {
      "cell_type": "code",
      "execution_count": 170,
      "metadata": {},
      "outputs": [
        {
          "data": {
            "image/png": "[encoded data removed]",
            "text/plain": [
              "<Figure size 1000x600 with 2 Axes>"
            ]
          },
          "metadata": {},
          "output_type": "display_data"
        }
      ],
      "source": [
        "# Unir los 4 DataFrames en uno solo\n",
        "df_total = pd.concat([tienda, tienda2, tienda3, tienda4], ignore_index=True)\n",
        "plt.figure(figsize=(10, 6))\n",
        "plt.hexbin(df_total['lon'], df_total['lat'], gridsize=30, cmap='hot', bins='log')\n",
        "plt.colorbar(label='Densidad de ventas')\n",
        "plt.title('Mapa de calor: Concentración de ventas por ubicación')\n",
        "plt.xlabel('Longitud')\n",
        "plt.ylabel('Latitud')\n",
        "plt.show()"
      ]
    },
    {
      "cell_type": "code",
      "execution_count": 171,
      "metadata": {},
      "outputs": [
        {
          "data": {
            "image/png": "[encoded data removed]",
            "text/plain": [
              "<Figure size 1000x600 with 2 Axes>"
            ]
          },
          "metadata": {},
          "output_type": "display_data"
        }
      ],
      "source": [
        "plt.figure(figsize=(10, 6))\n",
        "scatter = plt.scatter(df_total['lon'], df_total['lat'], c=df_total['Calificación'], cmap='viridis', s=50, alpha=0.6)\n",
        "plt.colorbar(scatter, label='Calificación')\n",
        "plt.title('Ubicación de ventas según calificación')\n",
        "plt.xlabel('Longitud')\n",
        "plt.ylabel('Latitud')\n",
        "plt.grid(True)\n",
        "plt.show()\n"
      ]
    }
  ],
  "metadata": {
    "colab": {
      "provenance": []
    },
    "kernelspec": {
      "display_name": "Python 3",
      "name": "python3"
    },
    "language_info": {
      "codemirror_mode": {
        "name": "ipython",
        "version": 3
      },
      "file_extension": ".py",
      "mimetype": "text/x-python",
      "name": "python",
      "nbconvert_exporter": "python",
      "pygments_lexer": "ipython3",
      "version": "3.11.7"
    }
  },
  "nbformat": 4,
  "nbformat_minor": 0
}
